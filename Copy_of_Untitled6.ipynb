{
  "nbformat": 4,
  "nbformat_minor": 0,
  "metadata": {
    "colab": {
      "provenance": [],
      "authorship_tag": "ABX9TyOFaWU6YP+NKfS3bWatJruW",
      "include_colab_link": true
    },
    "kernelspec": {
      "name": "python3",
      "display_name": "Python 3"
    },
    "language_info": {
      "name": "python"
    }
  },
  "cells": [
    {
      "cell_type": "markdown",
      "metadata": {
        "id": "view-in-github",
        "colab_type": "text"
      },
      "source": [
        "<a href=\"https://colab.research.google.com/github/geethakarnam7/geethakarnam7/blob/main/Copy_of_Untitled6.ipynb\" target=\"_parent\"><img src=\"https://colab.research.google.com/assets/colab-badge.svg\" alt=\"Open In Colab\"/></a>"
      ]
    },
    {
      "cell_type": "code",
      "execution_count": null,
      "metadata": {
        "colab": {
          "base_uri": "https://localhost:8080/"
        },
        "id": "zJKPnwlLuK_j",
        "outputId": "21e5a8e0-64b1-4431-f534-9a4c5e7770ec"
      },
      "outputs": [
        {
          "output_type": "stream",
          "name": "stdout",
          "text": [
            "enter the no.of units67\n",
            "no charge\n",
            "enter the characterl\n",
            "character is consonant\n",
            "enter your weight in kgs63\n",
            "enter your height in meters5.8\n",
            "under weight\n",
            "enter the sentence123456\n",
            "invalid username\n"
          ]
        }
      ],
      "source": [
        "# if else\n",
        "units=float(input(\"enter the no.of units\"))\n",
        "if units<100:\n",
        "  print(\"no charge\")\n",
        "elif units<200:\n",
        "  print(\"charges will be\",(units-100)*5)\n",
        "else:\n",
        "  print(\"charges will be\",(units-100)*5)\n",
        "\n",
        "\n",
        "# to find whether given number is vowel or not\n",
        "char=str(input(\"enter the character\"))\n",
        "char_lower=char.lower()\n",
        "vowels=['a','e','i','o','u']\n",
        "if (char_lower in vowels):\n",
        " print(\"character is vowel\")\n",
        "else:\n",
        " print(\"character is consonant\")\n",
        "\n",
        "# if bmi is less than 18.5 than underweight ,if between 18.5 and 24.9 than normal weight ,if between 24.9 and 29.9 overweight\n",
        "weight=float(input(\"enter your weight in kgs\"))\n",
        "height=float(input(\"enter your height in meters\"))\n",
        "BMI=weight/(height**2)\n",
        "if BMI<18.5:\n",
        "  print(\"under weight\")\n",
        "elif BMI>18.5 and BMI<24.9:\n",
        "  print(\"normal weight\")\n",
        "elif BMI>24.9 and BMI<29.9:\n",
        "  print(\"overweight\")\n",
        "\n",
        "# how the instagram works\n",
        "database={\n",
        "\n",
        "          \"user1\" : \"123456\",\n",
        "          \"user2\" : \"654321\",\n",
        "          \"user3\" : \"abc@123\"\n",
        "         }\n",
        "username=input(\"enter the sentence\")\n",
        "if username in database.keys():\n",
        "  password=input(\"enter the password\")\n",
        "  if password in database.values():\n",
        "    print(\"welcome user\",username)\n",
        "  else:\n",
        "    print(\"wrong password\")\n",
        "else:\n",
        "    print(\"invalid username\")\n",
        "\n",
        "\n"
      ]
    }
  ]
}