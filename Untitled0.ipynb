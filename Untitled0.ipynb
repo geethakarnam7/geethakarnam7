{
  "nbformat": 4,
  "nbformat_minor": 0,
  "metadata": {
    "colab": {
      "provenance": [],
      "authorship_tag": "ABX9TyM0mvJCZVFudP4cdwzRNxKP",
      "include_colab_link": true
    },
    "kernelspec": {
      "name": "python3",
      "display_name": "Python 3"
    },
    "language_info": {
      "name": "python"
    }
  },
  "cells": [
    {
      "cell_type": "markdown",
      "metadata": {
        "id": "view-in-github",
        "colab_type": "text"
      },
      "source": [
        "<a href=\"https://colab.research.google.com/github/geethakarnam7/geethakarnam7/blob/main/Untitled0.ipynb\" target=\"_parent\"><img src=\"https://colab.research.google.com/assets/colab-badge.svg\" alt=\"Open In Colab\"/></a>"
      ]
    },
    {
      "cell_type": "code",
      "execution_count": 29,
      "metadata": {
        "colab": {
          "base_uri": "https://localhost:8080/"
        },
        "id": "-6uXeq-HkIeR",
        "outputId": "2e7efbd2-dd0e-4f46-b240-378093697ff6"
      },
      "outputs": [
        {
          "output_type": "stream",
          "name": "stdout",
          "text": [
            "sum of num1 and num2 is 30\n",
            "5\n",
            "20\n",
            "3.0\n",
            "modulus is 1\n",
            "division is 3\n",
            "exponent is 27\n",
            "False\n",
            "equal to True\n",
            "not equal is True\n",
            "greater then is True\n",
            "False\n",
            "True\n",
            "False\n"
          ]
        }
      ],
      "source": [
        "#addition\n",
        "num1=10\n",
        "num2=20\n",
        "sum=num1+num2\n",
        "print(\"sum of num1 and num2 is\",sum)\n",
        "\n",
        "#substraction\n",
        "num1=15\n",
        "num2=10\n",
        "diff=num1-num2\n",
        "print(diff)\n",
        "\n",
        "#multiplication\n",
        "num1=10\n",
        "num2=2\n",
        "multiply=num1*num2\n",
        "print(multiply)\n",
        "#division\n",
        "num1=30\n",
        "num2=10\n",
        "divide=num1/num2\n",
        "print(divide)\n",
        "#modulus\n",
        "num1=10\n",
        "num2=3\n",
        "remainder=num1%num2\n",
        "print(\"modulus is\",remainder)\n",
        "#floor division\n",
        "num1=30\n",
        "num2=10\n",
        "divide=num1//num2\n",
        "print(\"division is\",divide)\n",
        "\n",
        "#exponent operator\n",
        "x=3\n",
        "y=x**3\n",
        "print(\"exponent is\",y)\n",
        "\n",
        "#equal too\n",
        "x=5\n",
        "y=6\n",
        "result=(x==y)\n",
        "print(result)\n",
        "\n",
        "#equal to\n",
        "x=6\n",
        "y=6\n",
        "result=(x==y)\n",
        "print(\"equal to\",result)\n",
        "\n",
        "#not equal to\n",
        "x=6\n",
        "y=5\n",
        "result=(x!=y)\n",
        "print(\"not equal is\",result)\n",
        "\n",
        "#greater than\n",
        "x=7\n",
        "y=6\n",
        "result=(x>y)\n",
        "print(\"greater then is\",result)\n",
        "\n",
        "# logical and\n",
        "\n",
        "x=False\n",
        "y=False\n",
        "result=x and y\n",
        "print(result)\n",
        "#OR\n",
        "X=False\n",
        "y=True\n",
        "result=x or y\n",
        "print(result)\n",
        "\n",
        "#logical not\n",
        "x=True\n",
        "result=not x\n",
        "print(result)\n",
        "\n",
        "\n"
      ]
    }
  ]
}