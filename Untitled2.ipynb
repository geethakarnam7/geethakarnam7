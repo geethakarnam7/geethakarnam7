{
  "nbformat": 4,
  "nbformat_minor": 0,
  "metadata": {
    "colab": {
      "provenance": [],
      "mount_file_id": "1TDj0rKe0ngqMA5wzVmCMnW4s3TPGRhcm",
      "authorship_tag": "ABX9TyPhcZfLsJXEpmXuWh73y/Ga",
      "include_colab_link": true
    },
    "kernelspec": {
      "name": "python3",
      "display_name": "Python 3"
    },
    "language_info": {
      "name": "python"
    }
  },
  "cells": [
    {
      "cell_type": "markdown",
      "metadata": {
        "id": "view-in-github",
        "colab_type": "text"
      },
      "source": [
        "<a href=\"https://colab.research.google.com/github/geethakarnam7/geethakarnam7/blob/main/Untitled2.ipynb\" target=\"_parent\"><img src=\"https://colab.research.google.com/assets/colab-badge.svg\" alt=\"Open In Colab\"/></a>"
      ]
    },
    {
      "cell_type": "code",
      "execution_count": null,
      "metadata": {
        "colab": {
          "base_uri": "https://localhost:8080/"
        },
        "id": "WhWs7G0jvtqn",
        "outputId": "f3f54371-0b73-475b-b1ef-80f654dd2e12"
      },
      "outputs": [
        {
          "output_type": "stream",
          "name": "stdout",
          "text": [
            "2\n",
            "9\n",
            "greater than 0\n",
            "less than 0\n",
            "greater than 0\n",
            "the number is 0\n",
            "please enter the number9\n",
            "+ve\n",
            "1) press 1 if you are admin\n",
            "2) press 2 if you are not admin\n",
            "enter the condition-5\n",
            "not admin\n",
            "1) press 1 if it is raining\n",
            "2) press 2 if it is not raining\n",
            "enter the condition1\n",
            "take umbrella\n"
          ]
        }
      ],
      "source": [
        "# addition assignment\n",
        "x=1\n",
        "x+=1\n",
        "print(x)\n",
        "\n",
        "# assignment substraction\n",
        "y=10\n",
        "y-=1\n",
        "print(y)\n",
        "\n",
        "# if statement\n",
        "num = 10\n",
        "if num > 0:\n",
        "  print(\"greater than 0\")\n",
        "\n",
        "# if else statement\n",
        "num=0\n",
        "if num>0:\n",
        "  print(\"greater than 0\")\n",
        "else:\n",
        "  print(\"less than 0\")\n",
        "\n",
        "# if else statement\n",
        "num=10\n",
        "if num>0:\n",
        "  print(\"greater than 0\")\n",
        "else:\n",
        "  print(\"less than 0\")\n",
        "\n",
        "# if else statement\n",
        "num=-0\n",
        "if num>0:\n",
        "  print(\"greater than 0\")\n",
        "elif num==0:\n",
        " print(\"the number is 0\")\n",
        "else:\n",
        "  print(\"less than 0\")\n",
        "\n",
        "# if else statement\n",
        "num= int(input(\"please enter the number\"))\n",
        "if num>0:\n",
        "  print(\"+ve\")\n",
        "elif num==0:\n",
        "  print(\"the number is 0\")\n",
        "else:\n",
        "  print(\"-ve\")\n",
        "\n",
        "\n",
        "\n",
        "\n",
        " # if else\n",
        "\n",
        "\n",
        "print(\"1) press 1 if you are admin\")\n",
        "print(\"2) press 2 if you are not admin\")\n",
        "x = int(input(\"enter the condition\"))\n",
        "if x==1:\n",
        "  print(\"admin\")\n",
        "else:\n",
        "  print(\"not admin\")\n",
        "\n",
        "#if else\n",
        "\n",
        "print(\"1) press 1 if it is raining\")\n",
        "print(\"2) press 2 if it is not raining\")\n",
        "raining=int(input(\"enter the condition\"))\n",
        "if raining==1:\n",
        "   print(\"take umbrella\")\n",
        "else:\n",
        "   print(\"take sunglasses\")\n",
        "\n",
        "\n",
        "\n",
        "\n",
        "\n",
        "\n",
        "\n"
      ]
    },
    {
      "cell_type": "markdown",
      "source": [
        "# New Section"
      ],
      "metadata": {
        "id": "QB90_aMDAQPm"
      }
    },
    {
      "cell_type": "markdown",
      "source": [
        "\n",
        "\n",
        "*   List item\n",
        "*   List item\n",
        "\n"
      ],
      "metadata": {
        "id": "hfobGUi_Anoj"
      }
    },
    {
      "cell_type": "code",
      "source": [],
      "metadata": {
        "id": "dgMFgxca5xPJ"
      },
      "execution_count": null,
      "outputs": []
    },
    {
      "cell_type": "markdown",
      "source": [],
      "metadata": {
        "id": "E6wao7OI5x1j"
      }
    },
    {
      "cell_type": "markdown",
      "source": [],
      "metadata": {
        "id": "JVVlajEF6Qou"
      }
    }
  ]
}