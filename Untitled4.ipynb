{
  "nbformat": 4,
  "nbformat_minor": 0,
  "metadata": {
    "colab": {
      "provenance": [],
      "authorship_tag": "ABX9TyNafvlrEXWwGgNckqd44GU2",
      "include_colab_link": true
    },
    "kernelspec": {
      "name": "python3",
      "display_name": "Python 3"
    },
    "language_info": {
      "name": "python"
    }
  },
  "cells": [
    {
      "cell_type": "markdown",
      "metadata": {
        "id": "view-in-github",
        "colab_type": "text"
      },
      "source": [
        "<a href=\"https://colab.research.google.com/github/geethakarnam7/geethakarnam7/blob/main/Untitled4.ipynb\" target=\"_parent\"><img src=\"https://colab.research.google.com/assets/colab-badge.svg\" alt=\"Open In Colab\"/></a>"
      ]
    },
    {
      "cell_type": "code",
      "execution_count": 3,
      "metadata": {
        "colab": {
          "base_uri": "https://localhost:8080/"
        },
        "id": "1N1acxc-SPr8",
        "outputId": "e1cf915e-25f8-48b0-ec9f-272e92e42e70"
      },
      "outputs": [
        {
          "output_type": "stream",
          "name": "stdout",
          "text": [
            "xyz\n",
            "uvw\n",
            "uvw\n",
            "['abc', 'pqr', 'mno']\n",
            "9\n",
            "[23, 67]\n",
            "{'xyz': 20, 'abc': 56, 'pqr': 37, 'mno': 23, 'uvw': 45}\n",
            "20\n",
            "dict_keys(['xyz', 'abc', 'pqr', 'mno', 'uvw'])\n",
            "dict_values([20, 56, 37, 23, 45])\n",
            "dict_items([('xyz', 20), ('abc', 56), ('pqr', 37), ('mno', 23), ('uvw', 45)])\n",
            "5\n",
            "{'xyz': 45, 'abc': 56, 'pqr': 37, 'mno': 23, 'uvw': 45}\n",
            "{'xyz': 45, 'abc': 56, 'pqr': 37, 'mno': 23, 'uvw': 45, 'name': 'class', 'age': 25}\n",
            "{'xyz': 45, 'abc': 56, 'pqr': 77, 'mno': 23, 'uvw': 45, 'name': 'class', 'age': 25}\n",
            "enter the salary5000000\n",
            "enter experience8\n",
            "bonos is 250000.0\n"
          ]
        }
      ],
      "source": [
        "# list elements\n",
        "employees=[\"xyz\",\"abc\",\"pqr\",\"mno\",\"uvw\"]\n",
        "print(employees[0])\n",
        "\n",
        "# list elements\n",
        "employees=[\"xyz\",\"abc\",\"pqr\",\"mno\",\"uvw\"]\n",
        "print(employees[4])\n",
        "\n",
        "# list elements with negative index\n",
        "employees=[\"xyz\",\"abc\",\"pqr\",\"mno\",\"uvw\"]\n",
        "print(employees[-1])\n",
        "\n",
        "# access employee 2 to 4\n",
        "employees=[\"xyz\",\"abc\",\"pqr\",\"mno\",\"uvw\"]\n",
        "print(employees[1:4])\n",
        "\n",
        "# nested list\n",
        "x=[1,2,3,4,5,5.5,6,\"one\",\"three\"]\n",
        "y=[1,5,3,[8,[9,23,67]]]\n",
        "print(y[3][-1][0])\n",
        "\n",
        "# accesing nested list with negative value\n",
        "x=[1,2,3,4,5,5.5,6,\"one\",\"three\"]\n",
        "y=[1,5,3,[8,[9,23,67]]]\n",
        "print(y[3][-1][1:3])\n",
        "\n",
        "# dictionary:used to store collection of data of keyvalue pairs\n",
        "employees=[\"xyz\",\"abc\",\"pqr\",\"mno\",\"uvw\"]\n",
        "dct1={\"xyz\":20,\"abc\":56,\"pqr\":37,\"mno\":23,\"uvw\":45}\n",
        "print(dct1)\n",
        "print(dct1[\"xyz\"])\n",
        "print(dct1.keys())\n",
        "print(dct1.values())\n",
        "print(dct1.items())\n",
        "\n",
        "# length of dictionary\n",
        "employees=[\"xyz\",\"abc\",\"pqr\",\"mno\",\"uvw\"]\n",
        "dct1={\"xyz\":20,\"abc\":56,\"pqr\":37,\"mno\":23,\"uvw\":45}\n",
        "len_dct1=len(dct1)\n",
        "print(len_dct1)\n",
        "\n",
        "# updating value of dictionary\n",
        "dct1={\"xyz\":20,\"abc\":56,\"pqr\":37,\"mno\":23,\"uvw\":45}\n",
        "dct1[\"xyz\"]=45\n",
        "print(dct1)\n",
        "# dictonary2\n",
        "dct2={\"name\":\"class\",\"age\":25}\n",
        "dct1.update(dct2)\n",
        "print(dct1)\n",
        "dct1[\"pqr\"]=77\n",
        "print(dct1)\n",
        "\n",
        "# if the employee is working for more than five years he/she will get a bonus of 5% for their salary else no bonus\n",
        "salary=float(input(\"enter the salary\"))\n",
        "experience=float(input(\"enter experience\"))\n",
        "if experience>5:\n",
        "  print(\"bonos is\",salary*0.05)\n",
        "else:\n",
        "  print(\"no bonus\")"
      ]
    }
  ]
}