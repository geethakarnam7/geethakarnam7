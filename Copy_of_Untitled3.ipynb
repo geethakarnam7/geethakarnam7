{
  "nbformat": 4,
  "nbformat_minor": 0,
  "metadata": {
    "colab": {
      "provenance": [],
      "authorship_tag": "ABX9TyMElSs0QPaqfYO7IWN3LWKK",
      "include_colab_link": true
    },
    "kernelspec": {
      "name": "python3",
      "display_name": "Python 3"
    },
    "language_info": {
      "name": "python"
    }
  },
  "cells": [
    {
      "cell_type": "markdown",
      "metadata": {
        "id": "view-in-github",
        "colab_type": "text"
      },
      "source": [
        "<a href=\"https://colab.research.google.com/github/geethakarnam7/geethakarnam7/blob/main/Copy_of_Untitled3.ipynb\" target=\"_parent\"><img src=\"https://colab.research.google.com/assets/colab-badge.svg\" alt=\"Open In Colab\"/></a>"
      ]
    },
    {
      "cell_type": "code",
      "execution_count": null,
      "metadata": {
        "id": "EMcTXt08_Agx"
      },
      "outputs": [],
      "source": [
        "#if else\n",
        "score=float(input(\"enter the scre\"))\n",
        "if score>=90:\n",
        "  print(\"grade a\")\n",
        "elif score>=70:\n",
        "  print(\"grade b\")\n",
        "else:\n",
        "  print(\"fail\")\n",
        "\n",
        "#if else\n",
        "number=int(input(\"enter the number\"))\n",
        "if number%5==0:\n",
        "  print(\"divisible\")\n",
        "\n",
        "else:\n",
        "  print(\"not divisible\")\n",
        "\n",
        "# integer data type\n",
        "a=10\n",
        "b=4\n",
        "c=a+b\n",
        "print(type(c))\n",
        "\n",
        "# float data type\n",
        "a=10\n",
        "b=16\n",
        "c=a/b\n",
        "print(type(c))\n",
        "\n",
        "# string datatype\n",
        "str1='hello world'\n",
        "print(type(str1[0]))\n",
        "\n",
        "# string datatype\n",
        "str1='hello world'\n",
        "print(str1[0:7])\n",
        "\n",
        "\n",
        "\n",
        "\n",
        "\n"
      ]
    },
    {
      "cell_type": "code",
      "source": [],
      "metadata": {
        "id": "NTi-gz7hGA26"
      },
      "execution_count": null,
      "outputs": []
    }
  ]
}