{
  "nbformat": 4,
  "nbformat_minor": 0,
  "metadata": {
    "colab": {
      "provenance": [],
      "authorship_tag": "ABX9TyNxEh9h/TKYgKm79axZPRPI",
      "include_colab_link": true
    },
    "kernelspec": {
      "name": "python3",
      "display_name": "Python 3"
    },
    "language_info": {
      "name": "python"
    }
  },
  "cells": [
    {
      "cell_type": "markdown",
      "metadata": {
        "id": "view-in-github",
        "colab_type": "text"
      },
      "source": [
        "<a href=\"https://colab.research.google.com/github/geethakarnam7/geethakarnam7/blob/main/Copy_of_Untitled3.ipynb\" target=\"_parent\"><img src=\"https://colab.research.google.com/assets/colab-badge.svg\" alt=\"Open In Colab\"/></a>"
      ]
    },
    {
      "cell_type": "code",
      "execution_count": null,
      "metadata": {
        "colab": {
          "base_uri": "https://localhost:8080/",
          "height": 349
        },
        "id": "EMcTXt08_Agx",
        "outputId": "c90dbc8e-7ebc-484e-ab1f-4320272c9b1e"
      },
      "outputs": [
        {
          "output_type": "stream",
          "name": "stdout",
          "text": [
            "enter the scre78\n",
            "grade b\n",
            "enter the number45\n",
            "divisible\n",
            "<class 'int'>\n",
            "<class 'float'>\n",
            "<class 'str'>\n",
            "hello w\n"
          ]
        },
        {
          "output_type": "error",
          "ename": "TypeError",
          "evalue": "unbound method str.lower() needs an argument",
          "traceback": [
            "\u001b[0;31m---------------------------------------------------------------------------\u001b[0m",
            "\u001b[0;31mTypeError\u001b[0m                                 Traceback (most recent call last)",
            "\u001b[0;32m<ipython-input-18-1a6d7f8ffe3b>\u001b[0m in \u001b[0;36m<cell line: 42>\u001b[0;34m()\u001b[0m\n\u001b[1;32m     40\u001b[0m \u001b[0;31m#upper and lower letters of string\u001b[0m\u001b[0;34m\u001b[0m\u001b[0;34m\u001b[0m\u001b[0m\n\u001b[1;32m     41\u001b[0m \u001b[0mstr1\u001b[0m\u001b[0;34m=\u001b[0m\u001b[0;34m\"PYTHON is very intresting\"\u001b[0m\u001b[0;34m\u001b[0m\u001b[0;34m\u001b[0m\u001b[0m\n\u001b[0;32m---> 42\u001b[0;31m \u001b[0mstr1_lower\u001b[0m\u001b[0;34m=\u001b[0m\u001b[0mstr\u001b[0m\u001b[0;34m.\u001b[0m\u001b[0mlower\u001b[0m\u001b[0;34m(\u001b[0m\u001b[0;34m)\u001b[0m\u001b[0;34m\u001b[0m\u001b[0;34m\u001b[0m\u001b[0m\n\u001b[0m\u001b[1;32m     43\u001b[0m \u001b[0mstr1_lower\u001b[0m\u001b[0;34m\u001b[0m\u001b[0;34m\u001b[0m\u001b[0m\n\u001b[1;32m     44\u001b[0m \u001b[0mstr1_upper\u001b[0m\u001b[0;34m=\u001b[0m\u001b[0mstr\u001b[0m\u001b[0;34m.\u001b[0m\u001b[0mupper\u001b[0m\u001b[0;34m(\u001b[0m\u001b[0;34m)\u001b[0m\u001b[0;34m\u001b[0m\u001b[0;34m\u001b[0m\u001b[0m\n",
            "\u001b[0;31mTypeError\u001b[0m: unbound method str.lower() needs an argument"
          ]
        }
      ],
      "source": [
        "#if else\n",
        "score=float(input(\"enter the scre\"))\n",
        "if score>=90:\n",
        "  print(\"grade a\")\n",
        "elif score>=70:\n",
        "  print(\"grade b\")\n",
        "else:\n",
        "  print(\"fail\")\n",
        "\n",
        "#if else\n",
        "number=int(input(\"enter the number\"))\n",
        "if number%5==0:\n",
        "  print(\"divisible\")\n",
        "\n",
        "else:\n",
        "  print(\"not divisible\")\n",
        "\n",
        "# integer data type\n",
        "a=10\n",
        "b=4\n",
        "c=a+b\n",
        "print(type(c))\n",
        "\n",
        "# float data type\n",
        "a=10\n",
        "b=16\n",
        "c=a/b\n",
        "print(type(c))\n",
        "\n",
        "# string datatype\n",
        "str1='hello world'\n",
        "print(type(str1[0]))\n",
        "\n",
        "# string datatype\n",
        "str1='hello world'\n",
        "print(str1[0:7])\n",
        "\n",
        "\n",
        "\n",
        "#upper and lower letters of string\n",
        "str1=\"PYTHON is very intresting\"\n",
        "str1_lower=str.lower()\n",
        "str1_lower\n",
        "str1_upper=str.upper()\n",
        "str1_upper\n",
        "str1_len=len(str)\n",
        "str_len\n",
        "str1_replace=str1.replace(\"PYTHON\",\"DATASCIENCE\")\n",
        "str1_replace1=str1.replace(\"intresting\",\"intrs\")\n",
        "\n",
        "str_replace1\n",
        "\n"
      ]
    },
    {
      "cell_type": "code",
      "source": [],
      "metadata": {
        "id": "NTi-gz7hGA26"
      },
      "execution_count": null,
      "outputs": []
    }
  ]
}