{
  "nbformat": 4,
  "nbformat_minor": 0,
  "metadata": {
    "colab": {
      "provenance": [],
      "authorship_tag": "ABX9TyMY0FTDvZ5LPgKr2cabzTbi",
      "include_colab_link": true
    },
    "kernelspec": {
      "name": "python3",
      "display_name": "Python 3"
    },
    "language_info": {
      "name": "python"
    }
  },
  "cells": [
    {
      "cell_type": "markdown",
      "metadata": {
        "id": "view-in-github",
        "colab_type": "text"
      },
      "source": [
        "<a href=\"https://colab.research.google.com/github/geethakarnam7/geethakarnam7/blob/main/Copy_of_Untitled7.ipynb\" target=\"_parent\"><img src=\"https://colab.research.google.com/assets/colab-badge.svg\" alt=\"Open In Colab\"/></a>"
      ]
    },
    {
      "cell_type": "code",
      "execution_count": null,
      "metadata": {
        "colab": {
          "base_uri": "https://localhost:8080/"
        },
        "id": "JhzIwRPw90sO",
        "outputId": "b1719a13-9fc4-4743-e218-55ccc4dab2ce"
      },
      "outputs": [
        {
          "output_type": "stream",
          "name": "stdout",
          "text": [
            "1.celsius to farenheit\n",
            "2.farenheit to celsius\n",
            "enter 1 or 28\n",
            "invalid input\n",
            "1\n",
            "2\n",
            "3\n",
            "4\n",
            "5\n",
            "6\n",
            "7\n",
            "8\n",
            "9\n",
            "10\n",
            "10\n",
            "9\n",
            "8\n",
            "7\n",
            "6\n",
            "5\n",
            "4\n",
            "3\n",
            "2\n",
            "1\n",
            "*\n",
            "*\n",
            "*\n",
            "*\n",
            "*\n",
            "* * * * * *****\n",
            "*****\n",
            "*****\n",
            "*****\n",
            "*****\n",
            "*\n",
            "**\n",
            "***\n",
            "****\n",
            "*****\n",
            "******\n",
            "*****\n",
            "****\n",
            "***\n",
            "**\n",
            "*\n",
            " * * * * * *\n",
            " * * * * *\n",
            " * * * *\n",
            " * * *\n",
            " * *\n",
            " *\n"
          ]
        }
      ],
      "source": [
        "# temperature converter\n",
        "print(\"1.celsius to farenheit\")\n",
        "print(\"2.farenheit to celsius\")\n",
        "conversion_type=int(input(\"enter 1 or 2\"))\n",
        "if conversion_type==1:\n",
        "  celsius=float(input(\"enter the celsius value\"))\n",
        "  farenheits=(celsius*9/5)+32\n",
        "  print(\"celsius\",celsius,\"farenheit\",farenheit)\n",
        "elif conversion_type==2:\n",
        "  farenheit=float(input(\"enter the celsius value\"))\n",
        "  celsius=(farenheit-32)*5/9\n",
        "  print(\"farenheit\",farenheit,\"celsius\",celsius)\n",
        "else:\n",
        "  print(\"invalid input\")\n",
        "\n",
        "# looping structures (print numbers from 1 to 10)\n",
        "for i in range(1,11):\n",
        "  print(i)\n",
        "\n",
        "\n",
        "# print number from 10 to 1\n",
        "for i in range(10,0,-1):\n",
        "  print(i)\n",
        "\n",
        "#  print 5 stars in different line\n",
        "for i in range(5):\n",
        "  print(\"*\")\n",
        "\n",
        "# print 5 stars in same row\n",
        "\n",
        "for i in range(5):\n",
        "  print(\"*\",end=\" \")\n",
        "\n",
        "'''\n",
        "* * * * *\n",
        "* * * * *\n",
        "* * * * *\n",
        "* * * * *\n",
        "* * * * *\n",
        "'''\n",
        "#  for printing the above stars\n",
        "for i in range(5):\n",
        "  print(\"*\"*5,end=\"\\n\")\n",
        "#print the stars like first row has 1 star and second has 2 and third has 3 and fourth has 4 and fifth has 5\n",
        "for i in range(1,6):\n",
        "  print(\"*\"*i)\n",
        "# same as above question but reverse order\n",
        "for i in range(6,0,-1):\n",
        "  print(\"*\"*i)\n",
        "\n",
        "# 3\n",
        "for i in range(6,0,-1):\n",
        "  print(\" \" \"*\"*i)\n",
        "\n",
        "# 4\n",
        "\n",
        "\n",
        "\n",
        "\n",
        "\n",
        "\n",
        "\n",
        "\n",
        "\n"
      ]
    }
  ]
}